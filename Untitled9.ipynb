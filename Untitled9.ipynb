{
  "nbformat": 4,
  "nbformat_minor": 0,
  "metadata": {
    "colab": {
      "provenance": [],
      "authorship_tag": "ABX9TyM5vJPmTyef3/NQKa7C72BV",
      "include_colab_link": true
    },
    "kernelspec": {
      "name": "python3",
      "display_name": "Python 3"
    },
    "language_info": {
      "name": "python"
    }
  },
  "cells": [
    {
      "cell_type": "markdown",
      "metadata": {
        "id": "view-in-github",
        "colab_type": "text"
      },
      "source": [
        "<a href=\"https://colab.research.google.com/github/alirezakhaleghianaghizi/mlcomputerVS/blob/main/Untitled9.ipynb\" target=\"_parent\"><img src=\"https://colab.research.google.com/assets/colab-badge.svg\" alt=\"Open In Colab\"/></a>"
      ]
    },
    {
      "cell_type": "code",
      "execution_count": 1,
      "metadata": {
        "id": "0PDEtEo4dowc"
      },
      "outputs": [],
      "source": [
        "\n",
        "import numpy as np\n",
        "import pandas as pd\n",
        "from sklearn.model_selection import train_test_split\n",
        "import cv2\n",
        "import glob\n",
        "import matplotlib.pyplot as plt\n",
        "from sklearn.decomposition import PCA"
      ]
    },
    {
      "cell_type": "code",
      "source": [
        "import zipfile\n",
        "with zipfile.ZipFile('/content/happy-20231011T075633Z-001.zip', 'r') as zip_ref:\n",
        "    zip_ref.extractall('happy')\n",
        "with zipfile.ZipFile('/content/surprise-20231011T080650Z-001.zip', 'r') as zip_ref:\n",
        "    zip_ref.extractall('surprise')\n",
        "with zipfile.ZipFile('/content/disgust-20231011T075708Z-001.zip', 'r') as zip_ref:\n",
        "    zip_ref.extractall('disgust')\n",
        "with zipfile.ZipFile('/content/neutral-20231010T203141Z-001.zip', 'r') as zip_ref:\n",
        "    zip_ref.extractall('neutral')"
      ],
      "metadata": {
        "id": "Rn4hQcridryY"
      },
      "execution_count": 4,
      "outputs": []
    },
    {
      "cell_type": "code",
      "source": [
        "cv_img_happy = []\n",
        "path = '/content/happy/happy/*.png'\n",
        "for img in glob.glob(path):\n",
        "    n= cv2.imread(img)\n",
        "    cv_img_happy.append(cv2.cvtColor(n, cv2.COLOR_BGR2GRAY))\n",
        "cv_img_supr = []\n",
        "path = '/content/surprise/surprise/*.png'\n",
        "for img in glob.glob(path):\n",
        "    n= cv2.imread(img)\n",
        "    cv_img_supr.append(cv2.cvtColor(n, cv2.COLOR_BGR2GRAY))\n",
        "cv_img_disgust = []\n",
        "path = '/content/disgust/disgust/*.png'\n",
        "for img in glob.glob(path):\n",
        "    n= cv2.imread(img)\n",
        "    cv_img_disgust.append(cv2.cvtColor(n, cv2.COLOR_BGR2GRAY))\n",
        "cv_img_neutral = []\n",
        "path = '/content/neutral/neutral/*.png'\n",
        "for img in glob.glob(path):\n",
        "    n= cv2.imread(img)\n",
        "    cv_img_neutral.append(cv2.cvtColor(n, cv2.COLOR_BGR2GRAY))"
      ],
      "metadata": {
        "id": "3OC6zGekdudP"
      },
      "execution_count": 5,
      "outputs": []
    },
    {
      "cell_type": "code",
      "source": [
        "X_sur_train, X_sur_test, y_sur_train, y_sur_test = train_test_split(cv_img_supr, np.ones(len(cv_img_supr)), test_size=(len(cv_img_supr)-60)/len(cv_img_supr), random_state=42)\n",
        "X_hap_train, X_hap_test, y_hap_train, y_hap_test = train_test_split(cv_img_happy, np.zeros(len(cv_img_happy)), test_size=(len(cv_img_happy)-60)/len(cv_img_happy), random_state=42)\n",
        "X_neu_train, X_neu_test, y_neu_train, y_neu_test = train_test_split(cv_img_neutral, np.zeros(len(cv_img_neutral))+2, test_size=(len(cv_img_neutral)-120)/len(cv_img_neutral), random_state=42)\n",
        "X_dis_train, X_dis_test, y_dis_train, y_dis_test = train_test_split(cv_img_disgust, np.zeros(len(cv_img_disgust))+3, test_size=(len(cv_img_disgust)-30)/len(cv_img_disgust), random_state=42)"
      ],
      "metadata": {
        "id": "e8giZeM-dyFH"
      },
      "execution_count": 35,
      "outputs": []
    },
    {
      "cell_type": "code",
      "source": [
        "X_sur_train=np.array(X_sur_train)\n",
        "X_hap_train=np.array(X_hap_train)\n",
        "X_sur_test=np.array(X_sur_test)\n",
        "X_hap_test=np.array(X_hap_test)\n",
        "X_neu_train=np.array(X_neu_train)\n",
        "X_dis_train=np.array(X_dis_train)\n",
        "X_neu_test=np.array(X_neu_test)\n",
        "X_dis_test=np.array(X_dis_test)"
      ],
      "metadata": {
        "id": "cZPuwEFld2u9"
      },
      "execution_count": 36,
      "outputs": []
    },
    {
      "cell_type": "code",
      "source": [
        "X_sur_train=X_sur_train.reshape(len(X_sur_train),-1)\n",
        "X_hap_train=X_hap_train.reshape(len(X_hap_train),-1)\n",
        "X_sur_test=X_sur_test.reshape(len(X_sur_test),-1)\n",
        "X_hap_test=X_hap_test.reshape(len(X_hap_test),-1)\n",
        "X_neu_train=X_neu_train.reshape(len(X_neu_train),-1)\n",
        "X_dis_train=X_dis_train.reshape(len(X_dis_train),-1)\n",
        "X_neu_test=X_neu_test.reshape(len(X_neu_test),-1)\n",
        "X_dis_test=X_dis_test.reshape(len(X_dis_test),-1)"
      ],
      "metadata": {
        "id": "WV9BK4-ud6L-"
      },
      "execution_count": 37,
      "outputs": []
    },
    {
      "cell_type": "code",
      "source": [
        "X_train=np.concatenate((X_sur_train, X_hap_train,X_neu_train,X_dis_train), axis=0)\n",
        "X_test=np.concatenate((X_sur_test,X_hap_test,X_neu_test,X_dis_test),axis=0)\n",
        "y_test=np.concatenate((y_sur_test,y_hap_test,y_neu_test,y_dis_test),axis=0)\n",
        "y_train=np.concatenate((y_sur_train,y_hap_train,y_neu_train,y_dis_train),axis=0)"
      ],
      "metadata": {
        "id": "RnwbttOUd_mg"
      },
      "execution_count": 50,
      "outputs": []
    },
    {
      "cell_type": "code",
      "source": [
        "from sklearn.utils import shuffle\n",
        "X_train, y_train = shuffle(X_train, y_train, random_state=0)"
      ],
      "metadata": {
        "id": "WGwNFS5lnah4"
      },
      "execution_count": 122,
      "outputs": []
    },
    {
      "cell_type": "code",
      "source": [
        "pca = PCA(50)\n",
        "pca.fit(X_train)\n",
        "X_train_pca=pca.transform(X_train)\n",
        "x_test_pca=pca.transform(X_test)"
      ],
      "metadata": {
        "id": "Jz_7K7lDeBtW"
      },
      "execution_count": 123,
      "outputs": []
    },
    {
      "cell_type": "code",
      "source": [
        "from sklearn.svm import SVC\n",
        "from sklearn.metrics import confusion_matrix"
      ],
      "metadata": {
        "id": "b8zq52CGeqgP"
      },
      "execution_count": 124,
      "outputs": []
    },
    {
      "cell_type": "code",
      "source": [
        "np.logspace(-2, 10, 13)"
      ],
      "metadata": {
        "colab": {
          "base_uri": "https://localhost:8080/"
        },
        "id": "tBIscVvfwV-A",
        "outputId": "4332f4a9-e7cd-47b8-fad9-b49a5f5a9c17"
      },
      "execution_count": 125,
      "outputs": [
        {
          "output_type": "execute_result",
          "data": {
            "text/plain": [
              "array([1.e-02, 1.e-01, 1.e+00, 1.e+01, 1.e+02, 1.e+03, 1.e+04, 1.e+05,\n",
              "       1.e+06, 1.e+07, 1.e+08, 1.e+09, 1.e+10])"
            ]
          },
          "metadata": {},
          "execution_count": 125
        }
      ]
    },
    {
      "cell_type": "code",
      "source": [
        "Cs =np.logspace(-2, 10, 13)\n",
        "from sklearn.preprocessing import StandardScaler\n",
        "\n",
        "errors = np.zeros(len(Cs))\n",
        "k = 10\n",
        "N = len(y_train)\n",
        "\n",
        "scaler = StandardScaler()\n",
        "scaler.fit(X_train_pca)\n",
        "\n",
        "for j in range(len(Cs)):\n",
        "    clf = SVC(kernel = 'linear', decision_function_shape = 'ovr', C = Cs[j])\n",
        "    err = 0\n",
        "    for i in range(k):\n",
        "        X_val = X_train_pca[int(N*i/k) : int(N*(i + 1)/k) ,:]\n",
        "        y_val = y_train[int(N*i/k) : int(N*(i + 1)/k)]\n",
        "        X_train_temp = np.concatenate((X_train_pca[0 : int(N*i/k), :], X_train_pca[int(N*(i + 1)/k) : -1, :]), axis = 0)\n",
        "        y_train_temp = np.concatenate((y_train[0 : int(N*i/k)], y_train[int(N*(i + 1)/k) : -1]))\n",
        "        X_val1 = scaler.transform(X_val)\n",
        "        X_train_temp1=scaler.transform(X_train_temp)\n",
        "        clf.fit(X_train_temp1, y_train_temp)\n",
        "        y_val_p = clf.predict(X_val1)\n",
        "        err += (np.sum(y_val != y_val_p))/len(y_val)\n",
        "\n",
        "    errors[j] = err/k"
      ],
      "metadata": {
        "id": "vAKXq2OlesuG"
      },
      "execution_count": 126,
      "outputs": []
    },
    {
      "cell_type": "code",
      "source": [
        "print(errors)\n",
        "Cbest = Cs[np.where(errors == np.min(errors))][0]\n",
        "print(Cbest)"
      ],
      "metadata": {
        "colab": {
          "base_uri": "https://localhost:8080/"
        },
        "id": "sGolFzBFr9s2",
        "outputId": "3487b901-da7c-480a-9247-06e9f973d655"
      },
      "execution_count": 127,
      "outputs": [
        {
          "output_type": "stream",
          "name": "stdout",
          "text": [
            "[0.24074074 0.18148148 0.21481481 0.21481481 0.21481481 0.21481481\n",
            " 0.21481481 0.21481481 0.21481481 0.21481481 0.21481481 0.21481481\n",
            " 0.21481481]\n",
            "0.1\n"
          ]
        }
      ]
    },
    {
      "cell_type": "code",
      "source": [
        "clf = SVC(kernel = 'linear', decision_function_shape = 'ovr', C = Cbest)\n",
        "clf.fit(X_train_pca, y_train)\n",
        "y_train_p = clf.predict(X_train_pca)\n",
        "y_test_p = clf.predict(x_test_pca)"
      ],
      "metadata": {
        "id": "MrHqGY85fJlI"
      },
      "execution_count": 128,
      "outputs": []
    },
    {
      "cell_type": "code",
      "source": [
        "print('confusion matrix for training set: \\n',confusion_matrix(y_train, y_train_p))\n",
        "print('\\nconfusion matrix for test set:')\n",
        "print(confusion_matrix(y_test, y_test_p))"
      ],
      "metadata": {
        "id": "0j7zHoBnfp-_",
        "colab": {
          "base_uri": "https://localhost:8080/"
        },
        "outputId": "f75802e9-e0a7-4e65-b24d-66022d69e38d"
      },
      "execution_count": 129,
      "outputs": [
        {
          "output_type": "stream",
          "name": "stdout",
          "text": [
            "confusion matrix for training set: \n",
            " [[ 60   0   0   0]\n",
            " [  0  60   0   0]\n",
            " [  0   0 120   0]\n",
            " [  0   0   0  30]]\n",
            "\n",
            "confusion matrix for test set:\n",
            "[[21  1  2  1]\n",
            " [ 0 25  3  0]\n",
            " [ 2  3 63  2]\n",
            " [ 1  1 10  5]]\n"
          ]
        }
      ]
    },
    {
      "cell_type": "code",
      "source": [
        "from sklearn.metrics import precision_score, recall_score\n",
        "precision = precision_score(y_test, y_test_p,average=None)\n",
        "recall = recall_score(y_test, y_test_p,average=None)\n",
        "\n",
        "print('Precision:' ,precision)\n",
        "print('Recall:',recall)"
      ],
      "metadata": {
        "colab": {
          "base_uri": "https://localhost:8080/"
        },
        "id": "XTwZQjErft23",
        "outputId": "bd2b094b-0d4e-4b5d-939e-e5f025220fa8"
      },
      "execution_count": 130,
      "outputs": [
        {
          "output_type": "stream",
          "name": "stdout",
          "text": [
            "Precision: [0.875      0.83333333 0.80769231 0.625     ]\n",
            "Recall: [0.84       0.89285714 0.9        0.29411765]\n"
          ]
        }
      ]
    },
    {
      "cell_type": "code",
      "source": [
        "from sklearn.model_selection import GridSearchCV\n",
        "\n",
        "scaler = StandardScaler()\n",
        "scaler.fit(X_train_pca)\n",
        "\n",
        "\n",
        "X_train_scalar = scaler.transform(X_train_pca)\n",
        "X_test_scalar = scaler.transform(x_test_pca)\n",
        "\n",
        "parameters = {'gamma':np.logspace(-2, 10, 13), 'C':np.logspace(-9, 3, 13)}\n",
        "svc = SVC(kernel = 'rbf')\n",
        "clfcv = GridSearchCV(svc, parameters)\n",
        "clfcv.fit(X_train_scalar, y_train)\n",
        "print(clfcv.best_params_)\n",
        "best_gamma=clfcv.best_params_['gamma']\n",
        "best_C=clfcv.best_params_['C']"
      ],
      "metadata": {
        "id": "qycF3j2IgxgP",
        "colab": {
          "base_uri": "https://localhost:8080/"
        },
        "outputId": "724da0be-0d9c-4379-fdf5-d85a225b2f74"
      },
      "execution_count": 131,
      "outputs": [
        {
          "output_type": "stream",
          "name": "stdout",
          "text": [
            "{'C': 10.0, 'gamma': 0.01}\n"
          ]
        }
      ]
    },
    {
      "cell_type": "code",
      "source": [
        "clf =  SVC(kernel = 'rbf', decision_function_shape = 'ovr', C =best_C , gamma = best_gamma)\n",
        "clf.fit(X_train_scalar, y_train)\n",
        "y_train_p = clf.predict(X_train_scalar)\n",
        "y_test_p = clf.predict(X_test_scalar)\n",
        "\n",
        "print('confusion matrix for training set:')\n",
        "print(confusion_matrix(y_train, y_train_p))\n",
        "\n",
        "print('\\nconfusion matrix for test set:')\n",
        "print(confusion_matrix(y_test, y_test_p))\n",
        "\n",
        "precision = precision_score(y_test, y_test_p,average=None)\n",
        "recall = recall_score(y_test, y_test_p,average=None)\n",
        "\n",
        "print('Precision:' ,precision)\n",
        "print('Recall:',recall)"
      ],
      "metadata": {
        "id": "pErbIg84hAx_",
        "colab": {
          "base_uri": "https://localhost:8080/"
        },
        "outputId": "8008ff7b-bb7d-4fd5-8c59-778eff05197d"
      },
      "execution_count": 132,
      "outputs": [
        {
          "output_type": "stream",
          "name": "stdout",
          "text": [
            "confusion matrix for training set:\n",
            "[[ 60   0   0   0]\n",
            " [  0  60   0   0]\n",
            " [  0   0 120   0]\n",
            " [  0   0   0  30]]\n",
            "\n",
            "confusion matrix for test set:\n",
            "[[21  0  4  0]\n",
            " [ 0 23  5  0]\n",
            " [ 0  2 66  2]\n",
            " [ 1  1  8  7]]\n",
            "Precision: [0.95454545 0.88461538 0.79518072 0.77777778]\n",
            "Recall: [0.84       0.82142857 0.94285714 0.41176471]\n"
          ]
        }
      ]
    }
  ]
}